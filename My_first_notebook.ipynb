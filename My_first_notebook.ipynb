{
  "nbformat": 4,
  "nbformat_minor": 0,
  "metadata": {
    "colab": {
      "provenance": [],
      "authorship_tag": "ABX9TyN61yTf0islXqbU9j6/t2dK",
      "include_colab_link": true
    },
    "kernelspec": {
      "name": "python3",
      "display_name": "Python 3"
    },
    "language_info": {
      "name": "python"
    }
  },
  "cells": [
    {
      "cell_type": "markdown",
      "metadata": {
        "id": "view-in-github",
        "colab_type": "text"
      },
      "source": [
        "<a href=\"https://colab.research.google.com/github/Laurendm15/my_first_repository/blob/main/My_first_notebook.ipynb\" target=\"_parent\"><img src=\"https://colab.research.google.com/assets/colab-badge.svg\" alt=\"Open In Colab\"/></a>"
      ]
    },
    {
      "cell_type": "code",
      "execution_count": null,
      "metadata": {
        "id": "W1MKNjdylLJE"
      },
      "outputs": [],
      "source": [
        "name = \"Lauren\"\n",
        "print (\"Hola\", name)"
      ]
    },
    {
      "cell_type": "code",
      "source": [
        "name = \"Lauren\"\n",
        "print (\"Hola\", name)"
      ],
      "metadata": {
        "id": "VE70CxWSmhTM"
      },
      "execution_count": null,
      "outputs": []
    },
    {
      "cell_type": "code",
      "source": [],
      "metadata": {
        "id": "5B6X2Xx5oPOL"
      },
      "execution_count": null,
      "outputs": []
    }
  ]
}